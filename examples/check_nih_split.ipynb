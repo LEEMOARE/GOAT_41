{
 "cells": [
  {
   "cell_type": "code",
   "execution_count": 1,
   "metadata": {},
   "outputs": [],
   "source": [
    "import sys\n",
    "import numpy as np \n",
    "sys.path.append('/opt/goat_41') # change this to the path of the 'goat_41'\n",
    "\n",
    "from src.componenets.nih import NIH\n",
    "from collections import Counter\n",
    "\n",
    "root = 'path to the NIH dataset' # change this to the path of the NIH dataset\n",
    "\n",
    "nih_train = NIH(root, 'train')\n",
    "nih_val = NIH(root, 'val')\n",
    "nih_test = NIH(root, 'test')"
   ]
  },
  {
   "cell_type": "code",
   "execution_count": 2,
   "metadata": {},
   "outputs": [
    {
     "name": "stdout",
     "output_type": "stream",
     "text": [
      "len(nih trainset) : 89783 0.80\n",
      "len(nih valset) : 11118 0.10\n",
      "len(nih testset) : 11219 0.10\n",
      "\n",
      "===== PID Distribution =====\n",
      "train pids : 24645  0.80\n",
      "val pids : 3080  0.10\n",
      "test pids : 3080  0.10\n",
      "\n",
      "===== Age Distribution =====\n",
      "train ages : 46.14, 16.69\n",
      "val ages : 46.75, 16.82\n",
      "test ages : 47.03, 17.22\n",
      "\n",
      "===== view position distribution =====\n",
      "train view position : Counter({'pa': 53567, 'ap': 36216})       [0.59662742 0.40337258]\n",
      "val view position : Counter({'pa': 6871, 'ap': 4247})       [0.61800684 0.38199316]\n",
      "test view position : Counter({'pa': 6872, 'ap': 4347})       [0.61253231 0.38746769]\n",
      "\n",
      "===== gender distribution =====\n",
      "train gender : Counter({'m': 50676, 'f': 39107})       [0.56442756 0.43557244]\n",
      "val gender : Counter({'m': 6356, 'f': 4762})        [0.57168555 0.42831445]\n",
      "test gender : Counter({'m': 6308, 'f': 4911})       [0.56226045 0.43773955]\n"
     ]
    }
   ],
   "source": [
    "print(f\"len(nih trainset) : {len(nih_train)} {(len(nih_train)/112120):.2f}\")\n",
    "print(f\"len(nih valset) : {len(nih_val)} {(len(nih_val)/112120):.2f}\")\n",
    "print(f\"len(nih testset) : {len(nih_test)} {(len(nih_test)/112120):.2f}\\n\")\n",
    "\n",
    "print(\"===== PID Distribution =====\")\n",
    "train_pids = np.array([ann['pid'] for ann in nih_train.annots])\n",
    "val_pids = np.array([ann['pid'] for ann in nih_val.annots])\n",
    "test_pids = np.array([ann['pid'] for ann in nih_test.annots])\n",
    "print(f\"train pids : {len(np.unique(train_pids))} {len(np.unique(train_pids))/30805 : .2f}\")\n",
    "print(f\"val pids : {len(np.unique(val_pids))} {len(np.unique(val_pids))/30805 : .2f}\")\n",
    "print(f\"test pids : {len(np.unique(test_pids))} {len(np.unique(test_pids))/30805 : .2f}\\n\")\n",
    "\n",
    "print(\"===== Age Distribution =====\")\n",
    "train_ages = np.array(list({ann['pid']:ann['age'] for ann in nih_train.annots}.values()))\n",
    "val_ages = np.array(list({ann['pid']:ann['age'] for ann in nih_val.annots}.values()))\n",
    "test_ages = np.array(list({ann['pid']:ann['age'] for ann in nih_test.annots}.values()))\n",
    "print(f\"train ages : {train_ages.mean():.2f}, {train_ages.std():.2f}\")\n",
    "print(f\"val ages : {val_ages.mean():.2f}, {val_ages.std():.2f}\")\n",
    "print(f\"test ages : {test_ages.mean():.2f}, {test_ages.std():.2f}\\n\")\n",
    "\n",
    "\n",
    "print(\"===== view position distribution =====\")\n",
    "train_view_pos = np.array([ann['view_position'] for ann in nih_train.annots])\n",
    "val_view_pos = np.array([ann['view_position'] for ann in nih_val.annots])\n",
    "test_view_pos = np.array([ann['view_position'] for ann in nih_test.annots])\n",
    "\n",
    "print(f\"train view position : {Counter(train_view_pos)} \\\n",
    "      {np.array(list(Counter(train_view_pos).values())) / len(train_view_pos)}\")\n",
    "print(f\"val view position : {Counter(val_view_pos)} \\\n",
    "      {np.array(list(Counter(val_view_pos).values())) / len(val_view_pos)}\")\n",
    "print(f\"test view position : {Counter(test_view_pos)} \\\n",
    "      {np.array(list(Counter(test_view_pos).values()))[::-1] / len(test_view_pos)}\\n\")\n",
    "\n",
    "print(\"===== gender distribution =====\")\n",
    "train_genders = np.array([ann['gender'] for ann in nih_train.annots])\n",
    "val_genders = np.array([ann['gender'] for ann in nih_val.annots])\n",
    "test_genders = np.array([ann['gender'] for ann in nih_test.annots])\n",
    "\n",
    "print(f\"train gender : {Counter(train_genders)} \\\n",
    "      {np.array(list(Counter(train_genders).values())) / len(train_genders)}\")\n",
    "print(f\"val gender : {Counter(val_genders)} \\\n",
    "       {np.array(list(Counter(val_genders).values())) / len(val_genders)}\")\n",
    "print(f\"test gender : {Counter(test_genders)} \\\n",
    "      {np.array(list(Counter(test_genders).values())) / len(test_genders)}\")\n"
   ]
  },
  {
   "cell_type": "code",
   "execution_count": null,
   "metadata": {},
   "outputs": [],
   "source": []
  },
  {
   "cell_type": "code",
   "execution_count": null,
   "metadata": {},
   "outputs": [],
   "source": []
  }
 ],
 "metadata": {
  "kernelspec": {
   "display_name": "base",
   "language": "python",
   "name": "python3"
  },
  "language_info": {
   "codemirror_mode": {
    "name": "ipython",
    "version": 3
   },
   "file_extension": ".py",
   "mimetype": "text/x-python",
   "name": "python",
   "nbconvert_exporter": "python",
   "pygments_lexer": "ipython3",
   "version": "3.9.15"
  }
 },
 "nbformat": 4,
 "nbformat_minor": 2
}
