{
 "cells": [
  {
   "cell_type": "code",
   "execution_count": 1,
   "metadata": {},
   "outputs": [],
   "source": [
    "import sys\n",
    "import numpy as np\n",
    "sys.path.append('/opt/goat_41') # change this to the path of the 'goat_41'\n",
    "\n",
    "\n",
    "from src.componenets.nih import NIH\n",
    "root = '/data1/pxi-dataset/cxr/public/nih/image_origin' # change this to the path of the NIH dataset\n",
    "nih_train = NIH(root, 'train')\n",
    "nih_val = NIH(root, 'val')\n",
    "nih_test = NIH(root, 'test')"
   ]
  },
  {
   "cell_type": "code",
   "execution_count": 7,
   "metadata": {},
   "outputs": [
    {
     "name": "stdout",
     "output_type": "stream",
     "text": [
      "tensor([11,  9,  9,  9,  9,  9,  9, 15,  9, 10])\n",
      "torch.Size([10, 3, 1024, 1024])\n",
      "['/data1/pxi-dataset/cxr/public/nih/image_origin/00019892_009.png',\n",
      " '/data1/pxi-dataset/cxr/public/nih/image_origin/00008127_001.png',\n",
      " '/data1/pxi-dataset/cxr/public/nih/image_origin/00007018_036.png',\n",
      " '/data1/pxi-dataset/cxr/public/nih/image_origin/00001981_000.png',\n",
      " '/data1/pxi-dataset/cxr/public/nih/image_origin/00027533_000.png',\n",
      " '/data1/pxi-dataset/cxr/public/nih/image_origin/00026236_012.png',\n",
      " '/data1/pxi-dataset/cxr/public/nih/image_origin/00019758_006.png',\n",
      " '/data1/pxi-dataset/cxr/public/nih/image_origin/00017140_001.png',\n",
      " '/data1/pxi-dataset/cxr/public/nih/image_origin/00003947_000.png',\n",
      " '/data1/pxi-dataset/cxr/public/nih/image_origin/00019670_001.png']\n"
     ]
    }
   ],
   "source": [
    "from pprint import pprint\n",
    "from src.datamodules.datamodule import get_NIH_dataloader\n",
    "\n",
    "loadaer = get_NIH_dataloader(nih_train, 10)\n",
    "\n",
    "batch = next(iter(loadaer))\n",
    "\n",
    "print(batch['label'])\n",
    "print(batch['image'].shape)\n",
    "pprint(batch['path'])"
   ]
  },
  {
   "cell_type": "code",
   "execution_count": null,
   "metadata": {},
   "outputs": [],
   "source": []
  }
 ],
 "metadata": {
  "kernelspec": {
   "display_name": "base",
   "language": "python",
   "name": "python3"
  },
  "language_info": {
   "codemirror_mode": {
    "name": "ipython",
    "version": 3
   },
   "file_extension": ".py",
   "mimetype": "text/x-python",
   "name": "python",
   "nbconvert_exporter": "python",
   "pygments_lexer": "ipython3",
   "version": "3.9.15"
  }
 },
 "nbformat": 4,
 "nbformat_minor": 2
}
