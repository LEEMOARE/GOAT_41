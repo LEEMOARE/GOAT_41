{
 "cells": [
  {
   "cell_type": "code",
   "execution_count": 1,
   "metadata": {},
   "outputs": [],
   "source": [
    "import sys\n",
    "import numpy as np\n",
    "sys.path.append('/opt/goat_41') # change this to the path of the 'goat_41'\n",
    "\n",
    "\n",
    "from src.componenets.nih import NIH\n",
    "root = '/data1/pxi-dataset/cxr/public/nih/image_origin' # change this to the path of the NIH dataset\n",
    "nih_train = NIH(root, 'train')\n",
    "nih_val = NIH(root, 'val')\n",
    "nih_test = NIH(root, 'test')"
   ]
  },
  {
   "cell_type": "code",
   "execution_count": 2,
   "metadata": {},
   "outputs": [
    {
     "name": "stdout",
     "output_type": "stream",
     "text": [
      "tensor([[0, 1, 0, 0, 1],\n",
      "        [0, 0, 0, 0, 0],\n",
      "        [0, 0, 0, 1, 0],\n",
      "        [0, 0, 0, 0, 0],\n",
      "        [1, 0, 0, 0, 0],\n",
      "        [0, 0, 0, 0, 0],\n",
      "        [0, 0, 0, 0, 0],\n",
      "        [1, 1, 0, 0, 1],\n",
      "        [0, 0, 0, 0, 1],\n",
      "        [0, 0, 0, 0, 1]])\n",
      "torch.Size([10, 3, 1024, 1024])\n",
      "['/data1/pxi-dataset/cxr/public/nih/image_origin/00020184_015.png',\n",
      " '/data1/pxi-dataset/cxr/public/nih/image_origin/00030542_000.png',\n",
      " '/data1/pxi-dataset/cxr/public/nih/image_origin/00021110_001.png',\n",
      " '/data1/pxi-dataset/cxr/public/nih/image_origin/00017356_002.png',\n",
      " '/data1/pxi-dataset/cxr/public/nih/image_origin/00016785_006.png',\n",
      " '/data1/pxi-dataset/cxr/public/nih/image_origin/00002576_009.png',\n",
      " '/data1/pxi-dataset/cxr/public/nih/image_origin/00021631_000.png',\n",
      " '/data1/pxi-dataset/cxr/public/nih/image_origin/00012018_019.png',\n",
      " '/data1/pxi-dataset/cxr/public/nih/image_origin/00020202_000.png',\n",
      " '/data1/pxi-dataset/cxr/public/nih/image_origin/00002888_001.png']\n"
     ]
    }
   ],
   "source": [
    "from pprint import pprint\n",
    "from src.datamodules.datamodule import get_NIH_dataloader\n",
    "\n",
    "loadaer = get_NIH_dataloader(nih_train, 10)\n",
    "\n",
    "batch = next(iter(loadaer))\n",
    "\n",
    "print(batch['label'])\n",
    "print(batch['image'].shape)\n",
    "pprint(batch['path'])"
   ]
  },
  {
   "cell_type": "code",
   "execution_count": null,
   "metadata": {},
   "outputs": [],
   "source": []
  }
 ],
 "metadata": {
  "kernelspec": {
   "display_name": "base",
   "language": "python",
   "name": "python3"
  },
  "language_info": {
   "codemirror_mode": {
    "name": "ipython",
    "version": 3
   },
   "file_extension": ".py",
   "mimetype": "text/x-python",
   "name": "python",
   "nbconvert_exporter": "python",
   "pygments_lexer": "ipython3",
   "version": "3.9.18"
  }
 },
 "nbformat": 4,
 "nbformat_minor": 2
}
